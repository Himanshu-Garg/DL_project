{
 "cells": [
  {
   "cell_type": "code",
   "execution_count": null,
   "metadata": {},
   "outputs": [],
   "source": [
    "from utils import *"
   ]
  },
  {
   "cell_type": "code",
   "execution_count": null,
   "metadata": {},
   "outputs": [],
   "source": [
    "common_list = 'abcdzABCDEF123'\n",
    "common_list += '右雨円王音下火花貝学気九休玉金空月犬見五口校左三山'\n",
    "\n",
    "font_file = ''\n",
    "image_file = ''\n",
    "\n",
    "fonts = os.listdir(font_file)\n",
    "for font in fonts:\n",
    "    font_path = os.path.join(font_file, font)\n",
    "    try:\n",
    "        font2image(font_path, image_file, common_list)\n",
    "        print(font)\n",
    "    except:\n",
    "        print(font+' failed!!!!!!!!!!!!!!!!!!')\n",
    "remove_empty_floder(image_file)"
   ]
  }
 ],
 "metadata": {
  "kernelspec": {
   "display_name": "Python 3",
   "language": "python",
   "name": "python3"
  },
  "language_info": {
   "codemirror_mode": {
    "name": "ipython",
    "version": 3
   },
   "file_extension": ".py",
   "mimetype": "text/x-python",
   "name": "python",
   "nbconvert_exporter": "python",
   "pygments_lexer": "ipython3",
   "version": "3.9.1"
  }
 },
 "nbformat": 4,
 "nbformat_minor": 4
}
