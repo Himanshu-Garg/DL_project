{
 "cells": [
  {
   "cell_type": "code",
   "execution_count": 70,
   "metadata": {},
   "outputs": [],
   "source": [
    "import os\n",
    "import pygame\n",
    "import time \n",
    "import sys\n",
    "import pandas as pd\n",
    "import numpy as np\n",
    "import shutil\n",
    "from matplotlib import cm\n",
    "from collections import Counter\n",
    "from PIL import Image\n",
    "import random\n",
    "\n",
    "from utils import *"
   ]
  },
  {
   "cell_type": "code",
   "execution_count": 39,
   "metadata": {},
   "outputs": [
    {
     "name": "stdout",
     "output_type": "stream",
     "text": [
      "['HachiMaruPop.ttf']\n"
     ]
    }
   ],
   "source": [
    "common_list = 'abcdefghijklmnopqrstuvwxyzABCDEFGHIJKLMNOPQRSTUVWXYZ一三四五六'\n",
    "font_file = './fonts'\n",
    "image_file = 'images'\n",
    "fonts = os.listdir(font_file)\n",
    "\n",
    "print(fonts)\n",
    "\n",
    "for font in fonts:\n",
    "    try:\n",
    "        font_path = os.path.join(font_file, font)\n",
    "        font2image(font_path, image_file, common_list, 60)\n",
    "    except:\n",
    "        print(font, \"failed......\")\n",
    "# remove_empty_floder(image_file)"
   ]
  },
  {
   "cell_type": "markdown",
   "metadata": {},
   "source": [
    "# testing"
   ]
  },
  {
   "cell_type": "code",
   "execution_count": null,
   "metadata": {},
   "outputs": [],
   "source": []
  },
  {
   "cell_type": "code",
   "execution_count": 26,
   "metadata": {},
   "outputs": [],
   "source": [
    "# importing image object from PIL \n",
    "from PIL import Image, ImageOps \n",
    "\n",
    "# creating an image object \n",
    "img = Image.open(r\"images/HachiMaruPop/A+.png\").convert(\"L\") "
   ]
  },
  {
   "cell_type": "code",
   "execution_count": 27,
   "metadata": {},
   "outputs": [
    {
     "data": {
      "image/png": "[encoded data removed]",
      "text/plain": [
       "<PIL.Image.Image image mode=L size=60x60 at 0x120DAF9D0>"
      ]
     },
     "execution_count": 27,
     "metadata": {},
     "output_type": "execute_result"
    }
   ],
   "source": [
    "img"
   ]
  },
  {
   "cell_type": "code",
   "execution_count": 34,
   "metadata": {},
   "outputs": [],
   "source": [
    "# image colorize function \n",
    "img_new = ImageOps.colorize(img, black ='rgb(205,200,0)', white =\"white\")"
   ]
  },
  {
   "cell_type": "code",
   "execution_count": 35,
   "metadata": {},
   "outputs": [
    {
     "data": {
      "image/png": "[encoded data removed]",
      "text/plain": [
       "<PIL.Image.Image image mode=RGB size=60x60 at 0x120D7F430>"
      ]
     },
     "execution_count": 35,
     "metadata": {},
     "output_type": "execute_result"
    }
   ],
   "source": [
    "img_new"
   ]
  },
  {
   "cell_type": "code",
   "execution_count": null,
   "metadata": {},
   "outputs": [],
   "source": []
  },
  {
   "cell_type": "code",
   "execution_count": null,
   "metadata": {},
   "outputs": [],
   "source": []
  },
  {
   "cell_type": "markdown",
   "metadata": {},
   "source": [
    "# from utils"
   ]
  },
  {
   "cell_type": "code",
   "execution_count": 116,
   "metadata": {},
   "outputs": [],
   "source": [
    "\n",
    "import os\n",
    "import pygame\n",
    "import time \n",
    "import sys\n",
    "import pandas as pd\n",
    "import numpy as np\n",
    "import shutil\n",
    "from matplotlib import cm\n",
    "from collections import Counter\n",
    "from PIL import Image\n",
    "\n",
    "pygame.init()\n",
    "\n",
    "def font2image(input_file, output_paths, characters, size):\n",
    "    input_file_name = input_file.split(os.sep)[-1].split('.')[0]   # get output file_name\n",
    "    output_path = os.path.join(output_paths, input_file_name)\n",
    "    \n",
    "    if not os.path.exists(output_path):\n",
    "        os.mkdir(output_path)\n",
    "        \n",
    "    AZ = [chr(i) for i in range(0x0041,0x005A+1)]    \n",
    "    file_sizes=[]    \n",
    "    for word in characters:\n",
    "        font = pygame.font.Font(input_file, size)\n",
    "        rtext = font.render(word, True, (0, 0, 0), (255, 255, 255))\n",
    "        \n",
    "        if word in AZ:      # for uppercase letter\n",
    "            word = word+'+'\n",
    "        pygame.image.save(rtext, os.path.join(output_path,word+\".png\"))\n",
    "        \n",
    "    remove_duplicated_images(output_path)\n",
    "    process_image(output_path, size)\n",
    "    \n",
    "def remove_duplicated_images(path):\n",
    "    while True:\n",
    "        files = os.listdir(path)\n",
    "        if len(files)==0:\n",
    "            print('!!!!!!!!!!!!!!!!!!error:{}'.format(path))\n",
    "            break\n",
    "        file_sizes = []\n",
    "        for file in files:\n",
    "            file_size = os.path.getsize(os.path.join(path,file))\n",
    "            file_sizes.append(file_size)\n",
    "        counter = Counter(file_sizes)\n",
    "        most_common_number = counter.most_common(1)[0][1]\n",
    "        if most_common_number<=10:\n",
    "            break\n",
    "        most_common = counter.most_common(1)[0][0]\n",
    "        for file in files:                                        # remove empty images\n",
    "            file_path = os.path.join(path, file)\n",
    "            if os.path.getsize(file_path)==most_common:\n",
    "                os.remove(file_path)  \n",
    "                \n",
    "def load_image(path):\n",
    "    image = Image.open(path).convert('L')\n",
    "    image = np.array(image)\n",
    "    return image\n",
    "\n",
    "def cut_image(image):\n",
    "    (h, w) = image.shape\n",
    "    h_value = 255*h\n",
    "    w_value = 255*w\n",
    "    left = 0\n",
    "    right = w\n",
    "    upper = 0\n",
    "    bottom = h\n",
    "    for r in range(w):\n",
    "        value = image[:, r].sum()\n",
    "        if value==h_value:\n",
    "            left += 1\n",
    "        else:\n",
    "            break\n",
    "    for r in range(w-1, -1, -1):\n",
    "        value = image[:,r].sum()\n",
    "        if value==h_value:\n",
    "            right -= 1\n",
    "        else:\n",
    "            break\n",
    "    for c in range(h):\n",
    "        value = image[c, :].sum()\n",
    "        if value==w_value:\n",
    "            upper += 1\n",
    "        else:\n",
    "            break\n",
    "    for c in range(h-1, -1, -1):\n",
    "        value = image[c, :].sum()\n",
    "        if value==w_value:\n",
    "            bottom -= 1\n",
    "        else:\n",
    "            break\n",
    "    if left==w or right==0 or upper==h or bottom==0:\n",
    "        left = 0\n",
    "        right = w\n",
    "        upper = 0\n",
    "        bottom = h\n",
    "    image_cut = image[upper:bottom, left:right]\n",
    "    return image_cut\n",
    "\n",
    "def resize_image(image_cut, size):\n",
    "    (h, w) = image_cut.shape\n",
    "    image_p = Image.fromarray(np.uint8(cm.gray(image_cut)*255))\n",
    "    image_resized = image_p\n",
    "    if h>w:\n",
    "        if h>size:\n",
    "            ratio = h/size\n",
    "            adjust = int(w/ratio)\n",
    "            if adjust<1:\n",
    "                adjust=1\n",
    "            image_resized = image_p.resize((adjust, size))\n",
    "    else:\n",
    "        if w>size:\n",
    "            ratio = w/size\n",
    "            adjust = int(h/ratio)\n",
    "            if adjust<1:\n",
    "                adjust=1\n",
    "            image_resized = image_p.resize((size, adjust))\n",
    "    return image_resized\n",
    "\n",
    "def pad_image(image_resized, size):\n",
    "    back = Image.new('L', (size, size), color=255)\n",
    "    h_r, v_r = image_resized.size\n",
    "    h = int((size-h_r)/2)\n",
    "    v = int((size-v_r)/2)\n",
    "    back.paste(image_resized,(h, v))\n",
    "    return back\n",
    "\n",
    "def color_text(image, color):\n",
    "    '''\n",
    "    By himanshu\n",
    "    coloring the text\n",
    "    '''\n",
    "    return ImageOps.colorize(image, black =color, white =\"white\")\n",
    "\n",
    "def get_random_color():\n",
    "    \n",
    "    color = 'rgb(' + str(random.randint(0, 255)) + ',' + str(random.randint(0, 255)) + ',' + str(random.randint(0, 255)) +')'\n",
    "    \n",
    "    return color\n",
    "\n",
    "def process_image(path, size):\n",
    "    files = os.listdir(path)\n",
    "    \n",
    "    color = get_random_color()\n",
    "    \n",
    "    for file in files:\n",
    "        file_path = os.path.join(path, file)\n",
    "        image = load_image(file_path)\n",
    "        image = cut_image(image)\n",
    "        image = resize_image(image, size)\n",
    "        image = pad_image(image, size)\n",
    "        image = color_text(image, color)\n",
    "        image.save(file_path)\n",
    "        \n",
    "def remove_empty_floder(path):\n",
    "    files = os.listdir(path)\n",
    "    for file in files:\n",
    "        if not os.listdir(os.path.join(path,file)):\n",
    "            os.rmdir(os.path.join(path,file))\n",
    "            print(file,' |removed')\n",
    "    print(\"done!\")\n",
    "    \n",
    "# check current font exists the given characters or not \n",
    "def check_image_exists(path, characters):\n",
    "    AZ = [chr(i) for i in range(0x0041,0x005A+1)]  \n",
    "    for word in characters:\n",
    "        if word in AZ:      \n",
    "            word = word+'+'\n",
    "        image = word+'.png'\n",
    "        image_path = os.path.join(path, image)\n",
    "        if not os.path.exists(image_path):\n",
    "            print('no ', word)\n",
    "    print('done!')"
   ]
  },
  {
   "cell_type": "code",
   "execution_count": 118,
   "metadata": {},
   "outputs": [
    {
     "name": "stdout",
     "output_type": "stream",
     "text": [
      "['HachiMaruPop.ttf']\n"
     ]
    }
   ],
   "source": [
    "common_list = 'abcdefghijklmnopqrstuvwxyzABCDEFGHIJKLMNOPQRSTUVWXYZ一三四五六'\n",
    "font_file = './fonts'\n",
    "image_file = 'images'\n",
    "fonts = os.listdir(font_file)\n",
    "\n",
    "print(fonts)\n",
    "\n",
    "for font in fonts:\n",
    "    try:\n",
    "        font_path = os.path.join(font_file, font)\n",
    "        font2image(font_path, image_file, common_list, 60)\n",
    "    except:\n",
    "        print(font, \"failed......\")\n",
    "# remove_empty_floder(image_file)"
   ]
  },
  {
   "cell_type": "code",
   "execution_count": null,
   "metadata": {},
   "outputs": [],
   "source": []
  }
 ],
 "metadata": {
  "kernelspec": {
   "display_name": "Python 3",
   "language": "python",
   "name": "python3"
  },
  "language_info": {
   "codemirror_mode": {
    "name": "ipython",
    "version": 3
   },
   "file_extension": ".py",
   "mimetype": "text/x-python",
   "name": "python",
   "nbconvert_exporter": "python",
   "pygments_lexer": "ipython3",
   "version": "3.9.1"
  }
 },
 "nbformat": 4,
 "nbformat_minor": 4
}
