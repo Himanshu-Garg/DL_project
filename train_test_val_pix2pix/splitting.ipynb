{
 "cells": [
  {
   "cell_type": "code",
   "execution_count": 1,
   "id": "scientific-cuisine",
   "metadata": {},
   "outputs": [],
   "source": [
    "import os\n",
    "import shutil\n",
    "import random"
   ]
  },
  {
   "cell_type": "code",
   "execution_count": null,
   "id": "bronze-moldova",
   "metadata": {},
   "outputs": [],
   "source": []
  },
  {
   "cell_type": "code",
   "execution_count": 2,
   "id": "labeled-cambodia",
   "metadata": {},
   "outputs": [],
   "source": [
    "font_a_char = os.listdir('font_a')\n",
    "font_b_char = os.listdir('font_b')"
   ]
  },
  {
   "cell_type": "code",
   "execution_count": 3,
   "id": "august-turning",
   "metadata": {},
   "outputs": [],
   "source": [
    "common_char = list(set(font_a_char).intersection(set(font_b_char)))"
   ]
  },
  {
   "cell_type": "code",
   "execution_count": 4,
   "id": "dominant-syndication",
   "metadata": {},
   "outputs": [
    {
     "data": {
      "text/plain": [
       "302"
      ]
     },
     "execution_count": 4,
     "metadata": {},
     "output_type": "execute_result"
    }
   ],
   "source": [
    "len(common_char)"
   ]
  },
  {
   "cell_type": "code",
   "execution_count": 6,
   "id": "optical-immunology",
   "metadata": {},
   "outputs": [],
   "source": [
    "# 80-10-10 split in train-val-test\n",
    "for i in common_char:\n",
    "    r = random.uniform(0, 1)\n",
    "    \n",
    "    if r < 0.8:\n",
    "        # go to training\n",
    "        shutil.copy('./font_a/' + i, './A/train/')\n",
    "        shutil.copy('./font_b/' + i, './B/train/')\n",
    "        \n",
    "    elif r < 0.9:\n",
    "        # go to validation\n",
    "        shutil.copy('./font_a/' + i, './A/val/')\n",
    "        shutil.copy('./font_b/' + i, './B/val/')\n",
    "        \n",
    "    else:\n",
    "        # go to testing\n",
    "        shutil.copy('./font_a/' + i, './A/test/')\n",
    "        shutil.copy('./font_b/' + i, './B/test/')"
   ]
  },
  {
   "cell_type": "code",
   "execution_count": null,
   "id": "ahead-montana",
   "metadata": {},
   "outputs": [],
   "source": []
  }
 ],
 "metadata": {
  "kernelspec": {
   "display_name": "Python 3",
   "language": "python",
   "name": "python3"
  },
  "language_info": {
   "codemirror_mode": {
    "name": "ipython",
    "version": 3
   },
   "file_extension": ".py",
   "mimetype": "text/x-python",
   "name": "python",
   "nbconvert_exporter": "python",
   "pygments_lexer": "ipython3",
   "version": "3.9.2"
  }
 },
 "nbformat": 4,
 "nbformat_minor": 5
}
