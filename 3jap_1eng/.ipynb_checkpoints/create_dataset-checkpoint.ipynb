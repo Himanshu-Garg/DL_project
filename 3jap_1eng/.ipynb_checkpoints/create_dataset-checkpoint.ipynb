{
 "cells": [
  {
   "cell_type": "code",
   "execution_count": 13,
   "id": "requested-parade",
   "metadata": {},
   "outputs": [],
   "source": [
    "import os\n",
    "import shutil\n",
    "import random\n",
    "from PIL import Image, ImageOps"
   ]
  },
  {
   "cell_type": "code",
   "execution_count": 14,
   "id": "straight-integrity",
   "metadata": {},
   "outputs": [],
   "source": [
    "images = \"../datasets/images/\"\n",
    "bg_color = 'rgb(255, 255, 179)'"
   ]
  },
  {
   "cell_type": "code",
   "execution_count": 15,
   "id": "maritime-refrigerator",
   "metadata": {},
   "outputs": [
    {
     "name": "stdout",
     "output_type": "stream",
     "text": [
      "deleted DS_Store\n"
     ]
    }
   ],
   "source": [
    "all_fonts = os.listdir(images)\n",
    "\n",
    "if \".DS_Store\" in all_fonts:\n",
    "    del all_fonts[all_fonts.index(\".DS_Store\")]\n",
    "    print('deleted DS_Store')\n",
    "\n",
    "del all_fonts[all_fonts.index(\"hanserif_bold\")]\n"
   ]
  },
  {
   "cell_type": "code",
   "execution_count": 16,
   "id": "environmental-respect",
   "metadata": {},
   "outputs": [],
   "source": [
    "def get_concat_h(im1, im2):\n",
    "    dst = Image.new('RGB', (im1.width + im2.width, im1.height))\n",
    "    dst.paste(im1, (0, 0))\n",
    "    dst.paste(im2, (im1.width, 0))\n",
    "    return dst\n",
    "\n",
    "def get_concat_v(im1, im2):\n",
    "    dst = Image.new('RGB', (im1.width, im1.height + im2.height))\n",
    "    dst.paste(im1, (0, 0))\n",
    "    dst.paste(im2, (0, im1.height))\n",
    "    return dst\n",
    "\n",
    "def get_concat_hv(jap1, jap2, jap3, eng):\n",
    "    h1 = get_concat_h(jap1, jap2)\n",
    "    h2 = get_concat_h(jap3, ImageOps.colorize(eng, black = \"black\", white = bg_color))\n",
    "    \n",
    "    return get_concat_v(h1, h2)"
   ]
  },
  {
   "cell_type": "code",
   "execution_count": null,
   "id": "contrary-bulgarian",
   "metadata": {},
   "outputs": [],
   "source": []
  },
  {
   "cell_type": "code",
   "execution_count": 17,
   "id": "joined-desert",
   "metadata": {},
   "outputs": [],
   "source": [
    "t = \"+ \".join(list(\"ABCDEFGHIJKLMNOPQRSTUVWXYZ\"))\n",
    "english = t.split(\" \") + list(\"abcdefghijklmnopqrstuvwxyz1234567890\")\n"
   ]
  },
  {
   "cell_type": "code",
   "execution_count": 21,
   "id": "every-model",
   "metadata": {},
   "outputs": [
    {
     "name": "stdout",
     "output_type": "stream",
     "text": [
      "Training data done\n"
     ]
    }
   ],
   "source": [
    "# creating training data\n",
    "\n",
    "\n",
    "for i in range(10000):\n",
    "    font_index = random.randint(0, len(all_fonts)-10)\n",
    "    \n",
    "    jap_alp = os.listdir(images + all_fonts[font_index])\n",
    "    jap_alp.sort()\n",
    "    jap_alp = jap_alp[63:]\n",
    "    \n",
    "    jap_alp_indexs = random.sample(range(0, len(jap_alp)-1), 3)\n",
    "    \n",
    "    eng_index = random.randint(0, len(english)-1)\n",
    "    \n",
    "    # read the images \n",
    "    jap1 = Image.open(images + all_fonts[font_index] + '/' + jap_alp[jap_alp_indexs[0]] ) \n",
    "    jap2 = Image.open(images + all_fonts[font_index] + '/' + jap_alp[jap_alp_indexs[1]] )\n",
    "    jap3 = Image.open(images + all_fonts[font_index] + '/' + jap_alp[jap_alp_indexs[2]] )\n",
    "    \n",
    "    eng_output = Image.open(images + all_fonts[font_index] + '/' + english[eng_index] + \".png\")\n",
    "    eng_output = eng_output.resize((120,120), Image.ANTIALIAS)\n",
    "    eng_output = ImageOps.colorize(eng_output, black = \"black\", white = bg_color)\n",
    "    \n",
    "    \n",
    "    eng = Image.open(images + \"hanserif_bold/\" + english[eng_index] + \".png\")\n",
    "    \n",
    "    X = get_concat_hv(jap1, jap2, jap3, eng)\n",
    "    \n",
    "    # saving the training data\n",
    "    X.save(\"A/train/\" + str(i) + \".png\")\n",
    "    eng_output.save(\"B/train/\" + str(i) + \".png\")\n",
    "    \n",
    "    \n",
    "    \n",
    "    \n",
    "    \n",
    "print(\"Training data done\")   \n",
    "    \n",
    "    "
   ]
  },
  {
   "cell_type": "code",
   "execution_count": 19,
   "id": "painted-southwest",
   "metadata": {},
   "outputs": [
    {
     "name": "stdout",
     "output_type": "stream",
     "text": [
      "Val data done\n"
     ]
    }
   ],
   "source": [
    "# creating val data\n",
    "\n",
    "for i in range(100):\n",
    "    font_index = random.randint(len(all_fonts)-11, len(all_fonts)-1)\n",
    "    \n",
    "    jap_alp = os.listdir(images + all_fonts[font_index])\n",
    "    jap_alp.sort()\n",
    "    jap_alp = jap_alp[63:]\n",
    "    \n",
    "    jap_alp_indexs = random.sample(range(0, len(jap_alp)-1), 3)\n",
    "    \n",
    "    eng_index = random.randint(0, len(english)-1)\n",
    "    \n",
    "    # read the images \n",
    "    jap1 = Image.open(images + all_fonts[font_index] + '/' + jap_alp[jap_alp_indexs[0]] ) \n",
    "    jap2 = Image.open(images + all_fonts[font_index] + '/' + jap_alp[jap_alp_indexs[1]] )\n",
    "    jap3 = Image.open(images + all_fonts[font_index] + '/' + jap_alp[jap_alp_indexs[2]] )\n",
    "    \n",
    "    eng_output = Image.open(images + all_fonts[font_index] + '/' + english[eng_index] + \".png\")\n",
    "    eng_output = eng_output.resize((120,120), Image.ANTIALIAS)\n",
    "    eng_output = ImageOps.colorize(eng_output, black = \"black\", white = bg_color)\n",
    "    \n",
    "    \n",
    "    eng = Image.open(images + \"hanserif_bold/\" + english[eng_index] + \".png\")\n",
    "    \n",
    "    X = get_concat_hv(jap1, jap2, jap3, eng)\n",
    "    \n",
    "    # saving the training data\n",
    "    X.save(\"A/val/\" + str(i) + \".png\")\n",
    "    eng_output.save(\"B/val/\" + str(i) + \".png\")\n",
    "    \n",
    "    \n",
    "\n",
    "print(\"Val data done\")  \n",
    "    \n",
    "    \n",
    "    \n",
    "    \n",
    "    "
   ]
  },
  {
   "cell_type": "code",
   "execution_count": 20,
   "id": "played-inspector",
   "metadata": {},
   "outputs": [
    {
     "name": "stdout",
     "output_type": "stream",
     "text": [
      "Test data done\n"
     ]
    }
   ],
   "source": [
    "# creating test data\n",
    "\n",
    "for i in range(100):\n",
    "    font_index = random.randint(len(all_fonts)-11, len(all_fonts)-1)\n",
    "    \n",
    "    jap_alp = os.listdir(images + all_fonts[font_index])\n",
    "    jap_alp.sort()\n",
    "    jap_alp = jap_alp[63:]\n",
    "    \n",
    "    jap_alp_indexs = random.sample(range(0, len(jap_alp)-1), 3)\n",
    "    \n",
    "    eng_index = random.randint(0, len(english)-1)\n",
    "    \n",
    "    # read the images \n",
    "    jap1 = Image.open(images + all_fonts[font_index] + '/' + jap_alp[jap_alp_indexs[0]] ) \n",
    "    jap2 = Image.open(images + all_fonts[font_index] + '/' + jap_alp[jap_alp_indexs[1]] )\n",
    "    jap3 = Image.open(images + all_fonts[font_index] + '/' + jap_alp[jap_alp_indexs[2]] )\n",
    "    \n",
    "    eng_output = Image.open(images + all_fonts[font_index] + '/' + english[eng_index] + \".png\")\n",
    "    eng_output = eng_output.resize((120,120), Image.ANTIALIAS)\n",
    "    eng_output = ImageOps.colorize(eng_output, black = \"black\", white = bg_color)\n",
    "    \n",
    "    \n",
    "    eng = Image.open(images + \"hanserif_bold/\" + english[eng_index] + \".png\")\n",
    "    \n",
    "    X = get_concat_hv(jap1, jap2, jap3, eng)\n",
    "    \n",
    "    # saving the training data\n",
    "    X.save(\"A/test/\" + str(i) + \".png\")\n",
    "    eng_output.save(\"B/test/\" + str(i) + \".png\")\n",
    "    \n",
    "\n",
    "print(\"Test data done\")  \n",
    "    \n",
    "    \n",
    "    \n",
    "    \n",
    "    \n",
    "    "
   ]
  },
  {
   "cell_type": "code",
   "execution_count": null,
   "id": "breeding-dividend",
   "metadata": {},
   "outputs": [],
   "source": []
  }
 ],
 "metadata": {
  "kernelspec": {
   "display_name": "Python 3",
   "language": "python",
   "name": "python3"
  },
  "language_info": {
   "codemirror_mode": {
    "name": "ipython",
    "version": 3
   },
   "file_extension": ".py",
   "mimetype": "text/x-python",
   "name": "python",
   "nbconvert_exporter": "python",
   "pygments_lexer": "ipython3",
   "version": "3.9.2"
  }
 },
 "nbformat": 4,
 "nbformat_minor": 5
}
